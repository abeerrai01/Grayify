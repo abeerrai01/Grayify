{
 "cells": [
  {
   "cell_type": "code",
   "id": "initial_id",
   "metadata": {
    "collapsed": true,
    "ExecuteTime": {
     "end_time": "2025-08-16T18:45:35.979832Z",
     "start_time": "2025-08-16T18:45:35.973859Z"
    }
   },
   "source": [
    "import numpy as np\n",
    "\n",
    "array=np.arange(1,101)\n",
    "array=array.reshape((10,10))\n",
    "print(array)\n",
    "\n",
    "print(\"SECOND ROW= \",array[2])\n",
    "print(\"LAST COLUMN =\",array[:,-1])\n",
    "print(\"ELEMENT AT (5,7)=\",array[5,7])\n",
    "even=np.where(array%2==0,-1,array)\n",
    "print(\"NEW ARRAY WITH EVEN AS -1\\n\",even)"
   ],
   "outputs": [
    {
     "name": "stdout",
     "output_type": "stream",
     "text": [
      "[[  1   2   3   4   5   6   7   8   9  10]\n",
      " [ 11  12  13  14  15  16  17  18  19  20]\n",
      " [ 21  22  23  24  25  26  27  28  29  30]\n",
      " [ 31  32  33  34  35  36  37  38  39  40]\n",
      " [ 41  42  43  44  45  46  47  48  49  50]\n",
      " [ 51  52  53  54  55  56  57  58  59  60]\n",
      " [ 61  62  63  64  65  66  67  68  69  70]\n",
      " [ 71  72  73  74  75  76  77  78  79  80]\n",
      " [ 81  82  83  84  85  86  87  88  89  90]\n",
      " [ 91  92  93  94  95  96  97  98  99 100]]\n",
      "SECOND ROW=  [21 22 23 24 25 26 27 28 29 30]\n",
      "LAST COLUMN = [ 10  20  30  40  50  60  70  80  90 100]\n",
      "ELEMENT AT (5,7)= 58\n",
      "NEW ARRAY WITH EVEN AS -1\n",
      " [[ 1 -1  3 -1  5 -1  7 -1  9 -1]\n",
      " [11 -1 13 -1 15 -1 17 -1 19 -1]\n",
      " [21 -1 23 -1 25 -1 27 -1 29 -1]\n",
      " [31 -1 33 -1 35 -1 37 -1 39 -1]\n",
      " [41 -1 43 -1 45 -1 47 -1 49 -1]\n",
      " [51 -1 53 -1 55 -1 57 -1 59 -1]\n",
      " [61 -1 63 -1 65 -1 67 -1 69 -1]\n",
      " [71 -1 73 -1 75 -1 77 -1 79 -1]\n",
      " [81 -1 83 -1 85 -1 87 -1 89 -1]\n",
      " [91 -1 93 -1 95 -1 97 -1 99 -1]]\n"
     ]
    }
   ],
   "execution_count": 23
  },
  {
   "metadata": {
    "ExecuteTime": {
     "end_time": "2025-08-16T18:57:11.344644Z",
     "start_time": "2025-08-16T18:57:11.307511Z"
    }
   },
   "cell_type": "code",
   "source": [
    "A=np.arange(1,26)\n",
    "A=A.reshape((5,5))\n",
    "B=np.arange(1,6)\n",
    "C=A+B\n",
    "print(\"ADDING B TO EACH ROW OF A\\n\",C)\n",
    "\n",
    "print(\"MULTIPLY EACH ROW BY B\\n\",A*B)"
   ],
   "id": "4d76c9538c9300c3",
   "outputs": [
    {
     "name": "stdout",
     "output_type": "stream",
     "text": [
      "ADDING B TO EACH ROW OF A\n",
      " [[ 2  4  6  8 10]\n",
      " [ 7  9 11 13 15]\n",
      " [12 14 16 18 20]\n",
      " [17 19 21 23 25]\n",
      " [22 24 26 28 30]]\n",
      "MULTIPLY EACH ROW BY B\n",
      " [[  1   4   9  16  25]\n",
      " [  6  14  24  36  50]\n",
      " [ 11  24  39  56  75]\n",
      " [ 16  34  54  76 100]\n",
      " [ 21  44  69  96 125]]\n"
     ]
    }
   ],
   "execution_count": 30
  }
 ],
 "metadata": {
  "kernelspec": {
   "display_name": "Python 3",
   "language": "python",
   "name": "python3"
  },
  "language_info": {
   "codemirror_mode": {
    "name": "ipython",
    "version": 2
   },
   "file_extension": ".py",
   "mimetype": "text/x-python",
   "name": "python",
   "nbconvert_exporter": "python",
   "pygments_lexer": "ipython2",
   "version": "2.7.6"
  }
 },
 "nbformat": 4,
 "nbformat_minor": 5
}
