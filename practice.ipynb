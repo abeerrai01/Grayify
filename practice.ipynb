{
 "cells": [
  {
   "cell_type": "code",
   "execution_count": 1,
   "id": "c412aedfa69f5bf4",
   "metadata": {
    "ExecuteTime": {
     "end_time": "2025-08-16T18:23:23.302260Z",
     "start_time": "2025-08-16T18:23:23.146513Z"
    }
   },
   "outputs": [
    {
     "name": "stdout",
     "output_type": "stream",
     "text": [
      "(768, 1013, 3)\n",
      "(768, 1013)\n"
     ]
    }
   ],
   "source": [
    "import numpy as np\n",
    "from PIL import Image\n",
    "\n",
    "img=Image.open(\"Dog2.jpg\")\n",
    "img.show()\n",
    "img_array=np.array(img)\n",
    "\n",
    "print(img_array.shape)\n",
    "\n",
    "R=img_array[:,:,0]\n",
    "G=img_array[:,:,1]\n",
    "B=img_array[:,:,2]\n",
    "\n",
    "gray=0.2989 * R + 0.5870 * G + 0.1140 * B\n",
    "\n",
    "print(gray.shape)\n",
    "\n",
    "gray=gray.astype(np.uint8)\n",
    "\n",
    "image=Image.fromarray(gray)\n",
    "\n",
    "image.show()\n",
    "\n",
    "image.save(\"gray_image.jpg\")"
   ]
  }
 ],
 "metadata": {
  "kernelspec": {
   "display_name": ".venv",
   "language": "python",
   "name": "python3"
  },
  "language_info": {
   "codemirror_mode": {
    "name": "ipython",
    "version": 3
   },
   "file_extension": ".py",
   "mimetype": "text/x-python",
   "name": "python",
   "nbconvert_exporter": "python",
   "pygments_lexer": "ipython3",
   "version": "3.11.9"
  }
 },
 "nbformat": 4,
 "nbformat_minor": 5
}
